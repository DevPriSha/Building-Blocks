{
 "cells": [
  {
   "cell_type": "code",
   "execution_count": 7,
   "source": [
    "from flask import Flask, render_template, request\r\n",
    "import psycopg2\r\n",
    "from bs4 import BeautifulSoup as bs\r\n",
    "import requests\r\n",
    "import re"
   ],
   "outputs": [],
   "metadata": {}
  },
  {
   "cell_type": "code",
   "execution_count": 13,
   "source": [
    "CWID = \"DevPriSha\"\r\n",
    "req_stats = requests.get(\"https://www.codewars.com/users/\"+CWID+\"/stats\")\r\n",
    "stats_soup =  bs(req_stats.text, 'html.parser')\r\n",
    "stat_soup = stats_soup.find(\"div\", attrs={\"class\": \"px-4 pb-4\"})\r\n",
    "rank = stat_soup.find(\"div\", attrs={\"class\": \"stat\"}).text\r\n",
    "rank = \"Rank:173 kyu\"\r\n",
    "pattern = re.compile(\"\\d+\")\r\n",
    "rank = pattern.findall(rank)\r\n",
    "rank = int(rank[0])\r\n",
    "print(rank)"
   ],
   "outputs": [
    {
     "output_type": "stream",
     "name": "stdout",
     "text": [
      "173\n"
     ]
    }
   ],
   "metadata": {}
  },
  {
   "cell_type": "code",
   "execution_count": 23,
   "source": [
    "req_quest = requests.get(\"https://www.codewars.com/users/\"+CWID+\"/completed\")\r\n",
    "kata = bs(req_quest.content)\r\n",
    "stat_ = kata.find(\"div\", attrs={\"class\":\"list-item-kata\"})\r\n",
    "ques = stat_.find(\"a\").text\r\n",
    "print(ques)"
   ],
   "outputs": [
    {
     "output_type": "stream",
     "name": "stdout",
     "text": [
      "Basic variable assignment\n",
      "73\n",
      "73\n",
      "31\n",
      "Ira\n",
      "\n",
      "\n",
      "\n",
      "\n",
      "\n",
      "\n",
      "\n",
      "\n",
      "\n",
      "\n",
      "\n",
      "\n",
      "\n",
      "\n",
      "\n",
      "\n",
      "\n",
      "\n",
      "Multiply\n",
      "1387\n",
      "1387\n",
      "217\n",
      "\n",
      "\n",
      "\n",
      "\n",
      "\n",
      "\n",
      "\n",
      "\n",
      "\n",
      "\n",
      "\n",
      "\n",
      "\n",
      "\n",
      "\n",
      "\n",
      "\n",
      "\n",
      "\n",
      "\n",
      "\n",
      "\n",
      "\n",
      "\n",
      "\n",
      "\n",
      "\n",
      "\n",
      "\n",
      "\n",
      "\n",
      "\n",
      "\n",
      "\n",
      "\n",
      "\n",
      "\n",
      "\n",
      "\n",
      "\n",
      "\n",
      "\n",
      "\n",
      "\n",
      "\n",
      "\n",
      "\n",
      "\n",
      "\n",
      "\n",
      "\n",
      "\n",
      "\n",
      "\n",
      "\n"
     ]
    }
   ],
   "metadata": {}
  }
 ],
 "metadata": {
  "orig_nbformat": 4,
  "language_info": {
   "name": "python",
   "version": "3.9.1",
   "mimetype": "text/x-python",
   "codemirror_mode": {
    "name": "ipython",
    "version": 3
   },
   "pygments_lexer": "ipython3",
   "nbconvert_exporter": "python",
   "file_extension": ".py"
  },
  "kernelspec": {
   "name": "python3",
   "display_name": "Python 3.9.1 64-bit"
  },
  "interpreter": {
   "hash": "63fd5069d213b44bf678585dea6b12cceca9941eaf7f819626cde1f2670de90d"
  }
 },
 "nbformat": 4,
 "nbformat_minor": 2
}